{
 "cells": [
  {
   "cell_type": "code",
   "execution_count": null,
   "id": "e3b2c433",
   "metadata": {
    "pycharm": {
     "name": "#%%\n"
    }
   },
   "outputs": [],
   "source": [
    "import os\n",
    "import os.path as osp\n",
    "\n",
    "import matplotlib.pyplot as plt\n",
    "import numpy as np\n",
    "import pandas as pd\n",
    "import torch\n",
    "import yaml\n",
    "from attrdict import AttrDict\n",
    "from tqdm.notebook import tqdm\n",
    "\n",
    "from regression.models.ipnp import IPNP\n",
    "from regression.gp import GPSampler, RBFKernel\n",
    "from regression.utils.misc import load_module\n",
    "\n",
    "plt.rcParams['figure.facecolor'] = 'white'"
   ]
  },
  {
   "cell_type": "code",
   "execution_count": null,
   "id": "329bcb74",
   "metadata": {
    "pycharm": {
     "name": "#%%\n"
    }
   },
   "outputs": [],
   "source": [
    "seed = 2\n",
    "np.random.seed(seed)\n",
    "torch.manual_seed(seed)\n",
    "torch.cuda.manual_seed(seed)"
   ]
  },
  {
   "cell_type": "code",
   "execution_count": null,
   "id": "889ad80c",
   "metadata": {
    "pycharm": {
     "name": "#%%\n"
    }
   },
   "outputs": [],
   "source": [
    "def load_model(model_name, min_ctx, device):\n",
    "    repo_dir = './'\n",
    "    exp_category = 'regression'\n",
    "    exp = 'gp'\n",
    "    v = 'v0'\n",
    "    args_file = 'args.yaml'\n",
    "    results_dir = osp.join(repo_dir, exp_category, 'results', exp, f'ctx-{min_ctx}-{min_ctx*2}_tar-4-64')\n",
    "    with open(osp.join(results_dir, model_name, v, args_file), 'r') as af:\n",
    "        args_dict = yaml.safe_load(af)\n",
    "        args = AttrDict(args_dict)\n",
    "    \n",
    "    model_cls = getattr(load_module(os.path.join(repo_dir, exp_category, 'models', f'{args.model}.py')),\n",
    "                    args.model.upper())\n",
    "    with open(osp.join(repo_dir, exp_category, args.root, 'config.yaml'), 'r') as f:\n",
    "        config = yaml.safe_load(f)\n",
    "    \n",
    "    model = model_cls(**config)\n",
    "    ckpt = torch.load(osp.join(repo_dir, exp_category, args.root, 'ckpt.tar'), map_location=device)\n",
    "    model.load_state_dict(ckpt.model)\n",
    "    model.eval()\n",
    "    model = model.to(device)\n",
    "    return model"
   ]
  },
  {
   "cell_type": "code",
   "execution_count": null,
   "id": "a920e4ad",
   "metadata": {
    "pycharm": {
     "name": "#%%\n"
    }
   },
   "outputs": [],
   "source": [
    "def load_eval_batches(min_ctx, seed, device):\n",
    "    repo_dir = './'\n",
    "    exp_category = 'regression'\n",
    "    exp = 'gp'\n",
    "    eval_dir = f'ctx-{min_ctx}-{min_ctx*2}_tar-4-64'\n",
    "    eval_filename = f'rbf-seed{seed}.tar'\n",
    "    return torch.load(osp.join(repo_dir, exp_category, 'evalsets', exp, eval_dir, eval_filename),\n",
    "                      map_location=device)"
   ]
  },
  {
   "cell_type": "code",
   "execution_count": null,
   "id": "43464e7b",
   "metadata": {
    "pycharm": {
     "name": "#%%\n"
    }
   },
   "outputs": [],
   "source": [
    "def plot_preds(ax, py, xc, yc, x, y):\n",
    "#     ax.plot(x, y, 'k:', linewidth=1, label='ground truth')\n",
    "    ax.scatter(xc, yc, s=50, color='red', marker='o', label='ctx pts')\n",
    "    py_mean = py.mean[0].cpu().squeeze().detach().numpy()\n",
    "    py_std = py.scale[0].cpu().squeeze().detach().numpy()\n",
    "    ax.plot(x, py_mean, label='pred mean')\n",
    "    ax.fill_between(x, py_mean - py_std, py_mean + py_std,\n",
    "                    alpha=0.2, label='+/- std')\n",
    "    ax.xaxis.set_ticklabels([])\n",
    "    ax.yaxis.set_ticklabels([])"
   ]
  },
  {
   "cell_type": "markdown",
   "id": "24527afd",
   "metadata": {
    "pycharm": {
     "name": "#%% md\n"
    }
   },
   "source": [
    "# Uncertainty"
   ]
  },
  {
   "cell_type": "code",
   "execution_count": null,
   "id": "c34a51ea",
   "metadata": {
    "pycharm": {
     "name": "#%%\n"
    }
   },
   "outputs": [],
   "source": [
    "device = 'cuda' if torch.cuda.is_available() else 'cpu'\n",
    "model_display_name = {'anp': 'ANP', 'banp': 'BANP', 'canp': 'CANP', 'ipcanp': 'CIPNP', 'ipanp': 'IPNP'}\n",
    "\n",
    "sampler = GPSampler(RBFKernel())\n",
    "main_sample = sampler.sample(batch_size=1,\n",
    "                             num_ctx=4096,\n",
    "                             num_tar=1,\n",
    "                             device=device)\n",
    "xc_argsort = torch.argsort(main_sample.xc.squeeze())"
   ]
  },
  {
   "cell_type": "code",
   "execution_count": null,
   "id": "85d9e44f",
   "metadata": {
    "pycharm": {
     "name": "#%%\n"
    }
   },
   "outputs": [],
   "source": [
    "min_ctx_to_load = 64\n",
    "model_names = ['canp', 'banp', 'anp', 'ipcanp', 'ipanp']\n",
    "models = {m: load_model(model_name=m, min_ctx=min_ctx_to_load, device=device) for m in model_names}\n",
    "ctxs = [4, 8, 16] #, 32, 64, 128, 256, 512, 1024]\n",
    "fig, axs = plt.subplots(nrows=len(ctxs), ncols=len(models),\n",
    "                        sharey='row',\n",
    "                        sharex='col',\n",
    "                        figsize=(4*len(models), 4*len(ctxs)),\n",
    "                        tight_layout=True)\n",
    "for ax, m in zip(axs[0], model_names):\n",
    "    ax.set_title(model_display_name[m], fontsize=24)\n",
    "for ax, c in zip(axs[:,0], ctxs):\n",
    "    ax.set_ylabel(f'Ctx: {c}', rotation=90, fontsize=28)\n",
    "\n",
    "for i, c in enumerate(ctxs):\n",
    "    sample = AttrDict({k: v[:,:c,:] for k, v in main_sample.items()})\n",
    "    for j, m in enumerate(model_names):\n",
    "        try:\n",
    "            model_py = models[m].predict(xc=sample.xc, yc=sample.yc, xt=main_sample.xc[:, xc_argsort, :])\n",
    "            plot_preds(\n",
    "                ax=axs[i, j], py=model_py,\n",
    "                xc=sample.xc.squeeze().cpu(), yc=sample.yc.squeeze().cpu(),\n",
    "                x=main_sample.xc[:, xc_argsort, :].squeeze().cpu(), y=main_sample.yc[:, xc_argsort, :].squeeze().cpu()\n",
    "            )\n",
    "            if m == model_names[0]:\n",
    "                axs[i, j].legend(loc='upper left', fontsize=18)\n",
    "        except FileNotFoundError:\n",
    "            axs[i, j].text(0.5, 0, 'OOM', size=30, ha=\"center\")\n",
    "plt.show()\n",
    "repo_dir = './'\n",
    "exp_category = 'regression'\n",
    "exp = 'gp'\n",
    "fig.savefig(osp.join(repo_dir, exp_category, 'results', exp, f'NP_uncertainty_ctx{min_ctx_to_load}.pdf'))\n",
    "fig.savefig(osp.join(repo_dir, exp_category, 'results', exp, f'NP_uncertainty_ctx{min_ctx_to_load}.png'))\n",
    "fig.savefig(osp.join(repo_dir, exp_category, 'results', exp, f'NP_uncertainty_ctx{min_ctx_to_load}.svg'))"
   ]
  },
  {
   "cell_type": "markdown",
   "id": "5086be85",
   "metadata": {
    "pycharm": {
     "name": "#%% md\n"
    }
   },
   "source": [
    "# Calibration"
   ]
  },
  {
   "cell_type": "code",
   "execution_count": null,
   "id": "57cdfdbd",
   "metadata": {
    "pycharm": {
     "name": "#%%\n"
    }
   },
   "outputs": [],
   "source": [
    "def get_confidence_interval(dist, ci):\n",
    "    ci = ci / 100 if ci > 1 else ci\n",
    "    quant_low = (1 - ci) / 2\n",
    "    quant_up = 1 - 0.5 + (ci / 2)\n",
    "    with torch.no_grad():        \n",
    "        return dist.icdf(quant_low), dist.icdf(quant_up)"
   ]
  },
  {
   "cell_type": "code",
   "execution_count": null,
   "id": "346c11c1",
   "metadata": {
    "pycharm": {
     "name": "#%%\n"
    }
   },
   "outputs": [],
   "source": [
    "def check_for_inclusion(val, ci):\n",
    "    with torch.no_grad():\n",
    "        return torch.le(ci[0], val) * torch.le(val, ci[1])"
   ]
  },
  {
   "cell_type": "code",
   "execution_count": null,
   "id": "451d9fe6",
   "metadata": {
    "pycharm": {
     "name": "#%%\n"
    }
   },
   "outputs": [],
   "source": [
    "device = 'cuda' if torch.cuda.is_available() else 'cpu'\n",
    "min_ctx_to_load = 64\n",
    "model_display_name = {'anp': 'ANP', 'banp': 'BANP', 'canp': 'CANP', 'ipcanp': 'CIPNP', 'ipanp': 'IPNP'}\n",
    "colors = {'anp': 'darkorange', 'banp': 'green', 'canp': 'red', 'ipcanp': 'dodgerblue', 'ipanp': 'blue'}\n",
    "eval_batches = load_eval_batches(min_ctx=min_ctx_to_load, seed=seed, device=device)\n",
    "model_names = ['canp', 'banp', 'anp', 'ipcanp', 'ipanp']\n",
    "models = {m: load_model(model_name=m, min_ctx=min_ctx_to_load, device=device) for m in model_names}"
   ]
  },
  {
   "cell_type": "code",
   "execution_count": null,
   "id": "067a030d",
   "metadata": {
    "pycharm": {
     "name": "#%%\n"
    }
   },
   "outputs": [],
   "source": [
    "num_batches = 1000\n",
    "ebs = [eval_batches[n] for n in np.random.choice(len(eval_batches), num_batches, replace=False)]\n",
    "total_count = torch.tensor([eb.yt.numel() for eb in eval_batches[:num_batches]]).sum().item()\n",
    "ctxs = [4, 8, 16]\n",
    "fig, axes = plt.subplots(nrows=1, ncols=len(ctxs), figsize=(6*len(ctxs),6), tight_layout=True, sharey=True)\n",
    "# fig.suptitle('NP Model Calibration', fontsize=24)\n",
    "model_calib_scores = {m: {c: 0 for c in ctxs} for m in model_names}\n",
    "for i, c in enumerate(ctxs):\n",
    "    ax = axes[i]\n",
    "    if i == 0:\n",
    "        ax.set_ylabel('% of values in CI', fontsize=24)\n",
    "    if i == 1:\n",
    "        ax.set_xlabel('Confidence Interval (CI)', fontsize=24)\n",
    "    model_y_in_cis_count = {m: [0]*len(torch.arange(0.1, 1, 0.1)) for m in model_names}\n",
    "    for eb in tqdm(ebs, desc='Eval'):\n",
    "        model_pys = {m: models[m].predict(xc=eb.xc[:,:c,:], yc=eb.yc[:,:c,:], xt=eb.xt)\n",
    "                     for m in model_names}\n",
    "        model_cis = {m: [get_confidence_interval(model_pys[m], ci) for ci in torch.arange(0.1, 1, 0.1)]\n",
    "                     for m in model_names}\n",
    "        model_y_in_cis = {m: [check_for_inclusion(eb.yt, ci) for ci in model_cis[m]]\n",
    "                          for m in model_names}            \n",
    "        for m in model_names:\n",
    "            for ci in range(len(torch.arange(0.1, 1, 0.1))):\n",
    "                model_y_in_cis_count[m][ci] += model_y_in_cis[m][ci].sum().item()\n",
    "#         if c == 16:\n",
    "#             print({m: [model_y_in_cis_count[m][ci] for ci in range(9)] for m in model_names}, '\\n')\n",
    "    model_calib = {m: [0] +\n",
    "                   [model_y_in_cis_count[m][ci] / total_count for ci in range(len(torch.arange(0.1, 1, 0.1)))] +\n",
    "                   [1.0]\n",
    "                   for m in model_names}\n",
    "\n",
    "    ax.plot(torch.arange(0, 1.1, 0.1), torch.arange(0, 1.1, 0.1), linestyle='--', color='black',\n",
    "            label='Perfect Calib.')\n",
    "    for m in model_names:\n",
    "        ax.plot(torch.arange(0, 1.1, 0.1), model_calib[m], marker='o', label=model_display_name[m],\n",
    "                color=colors[m])\n",
    "        model_calib_scores[m][c] = ((torch.tensor(model_calib[m]) - torch.arange(0, 1.1, 0.1))**2).sum().item() / 11\n",
    "    ax.set_title(f'Ctx: {c}', fontsize=24)    \n",
    "    ax.tick_params(axis='both', which='major', labelsize=16)\n",
    "    ax.set_xlim(0.0, 1.0)\n",
    "    ax.set_ylim(0.0, 1.0)\n",
    "    if i == 0:\n",
    "        ax.legend(fontsize=20)\n",
    "plt.show()\n",
    "\n",
    "repo_dir = './'\n",
    "exp_category = 'regression'\n",
    "exp = 'gp'\n",
    "fig.savefig(osp.join(repo_dir, exp_category, 'results', exp, f'NP_calib_ctx{min_ctx_to_load}.pdf'))\n",
    "fig.savefig(osp.join(repo_dir, exp_category, 'results', exp, f'NP_calib_ctx{min_ctx_to_load}.png'))\n",
    "fig.savefig(osp.join(repo_dir, exp_category, 'results', exp, f'NP_calib_ctx{min_ctx_to_load}.svg'))"
   ]
  },
  {
   "cell_type": "code",
   "execution_count": null,
   "id": "0037507b",
   "metadata": {
    "pycharm": {
     "name": "#%%\n"
    }
   },
   "outputs": [],
   "source": [
    "calib_df = pd.DataFrame(model_calib_scores)\n",
    "calib_df = calib_df.rename(columns=model_display_name)\n",
    "calib_df.index.name = 'Ctx'\n",
    "def bold_min(s):\n",
    "    is_min = s == s.min()\n",
    "    return ['font-weight:bold' if cell else '' for cell in is_min]\n",
    "calib_df.style.apply(bold_min, axis=1).format({c: \"{:0.3f}\" for c in calib_df.columns})"
   ]
  },
  {
   "cell_type": "markdown",
   "id": "896f3773",
   "metadata": {
    "pycharm": {
     "name": "#%% md\n"
    }
   },
   "source": [
    "### Calibration score:\n",
    "$$\\frac{1}{n_q}\\sum_{q=0.0}^{1.0}(ci_q - q)^2$$\n",
    "where\n",
    "* $q$ is intervals ranging from $0.0, 0.1, 0.2, \\ldots 1.0,$\n",
    "* $n_q$ is number of quantiles\n",
    "* $ci_q$ is the fraction of ground truth values falling in confidence interval $q$."
   ]
  },
  {
   "cell_type": "code",
   "execution_count": null,
   "id": "669ea8b1",
   "metadata": {
    "pycharm": {
     "name": "#%%\n"
    }
   },
   "outputs": [],
   "source": [
    "print(calib_df.style.apply(bold_min, axis=1).format({c: \"{:0.3f}\" for c in calib_df.columns}).to_latex())"
   ]
  },
  {
   "cell_type": "raw",
   "id": "bf84df54",
   "metadata": {
    "pycharm": {
     "name": "#%% raw\n"
    }
   },
   "source": [
    "# fig, ax = plt.subplots(figsize=(8,6))\n",
    "# ax.plot(torch.arange(0, 1.1, 0.1), torch.arange(0, 1.1, 0.1), linestyle='--', color='black')\n",
    "# for m in model_names:\n",
    "#     ax.plot(torch.arange(0, 1.1, 0.1), model_calib[m], marker='o', label=model_display_name[m])\n",
    "# ax.set_title('NP Model Calibration', fontsize=28)\n",
    "# ax.set_xlabel('Confidence Interval (CI)', fontsize=24)\n",
    "# ax.set_xticks(torch.arange(0, 1.1, 0.1))\n",
    "# ax.tick_params(axis='both', which='major', labelsize=18)\n",
    "# ax.set_ylabel('% of values in CI', fontsize=24)\n",
    "# plt.legend(fontsize=20)\n",
    "# plt.show()"
   ]
  },
  {
   "cell_type": "code",
   "execution_count": null,
   "id": "c841406a",
   "metadata": {
    "pycharm": {
     "name": "#%%\n"
    }
   },
   "outputs": [],
   "source": []
  }
 ],
 "metadata": {
  "kernelspec": {
   "display_name": "Python 3 (ipykernel)",
   "language": "python",
   "name": "python3"
  },
  "language_info": {
   "codemirror_mode": {
    "name": "ipython",
    "version": 3
   },
   "file_extension": ".py",
   "mimetype": "text/x-python",
   "name": "python",
   "nbconvert_exporter": "python",
   "pygments_lexer": "ipython3",
   "version": "3.9.12"
  }
 },
 "nbformat": 4,
 "nbformat_minor": 5
}
